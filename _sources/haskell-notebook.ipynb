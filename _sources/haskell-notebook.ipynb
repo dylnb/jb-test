{
 "cells": [
  {
   "cell_type": "markdown",
   "id": "7b036af4",
   "metadata": {},
   "source": [
    "# Haskell notebook"
   ]
  },
  {
   "cell_type": "code",
   "execution_count": 1,
   "id": "f37315be",
   "metadata": {},
   "outputs": [
    {
     "data": {
      "text/plain": [
       "7"
      ]
     },
     "metadata": {},
     "output_type": "display_data"
    }
   ],
   "source": [
    "(+1) $ 3+4"
   ]
  },
  {
   "cell_type": "markdown",
   "id": "c25fe624",
   "metadata": {},
   "source": [
    "# This is a cell"
   ]
  },
  {
   "cell_type": "markdown",
   "id": "a7370ad2",
   "metadata": {},
   "source": [
    "- this is some text\n",
    "- and some more"
   ]
  },
  {
   "cell_type": "code",
   "execution_count": null,
   "id": "6cf98805",
   "metadata": {},
   "outputs": [],
   "source": []
  }
 ],
 "metadata": {
  "kernelspec": {
   "display_name": "Haskell",
   "language": "haskell",
   "name": "haskell"
  },
  "language_info": {
   "codemirror_mode": "ihaskell",
   "file_extension": ".hs",
   "mimetype": "text/x-haskell",
   "name": "haskell",
   "pygments_lexer": "Haskell",
   "version": "8.10.7"
  }
 },
 "nbformat": 4,
 "nbformat_minor": 5
}

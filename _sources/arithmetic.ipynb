{
 "cells": [
  {
   "cell_type": "markdown",
   "id": "7719bfc6",
   "metadata": {},
   "source": [
    "# Arithmetic\n",
    "\n",
    "\n",
    "## Addition"
   ]
  },
  {
   "cell_type": "code",
   "execution_count": 1,
   "id": "9e6efe12",
   "metadata": {},
   "outputs": [
    {
     "data": {
      "text/plain": [
       "17"
      ]
     },
     "metadata": {},
     "output_type": "display_data"
    }
   ],
   "source": [
    "10 + 7"
   ]
  },
  {
   "cell_type": "markdown",
   "id": "53cea123",
   "metadata": {},
   "source": [
    "## Subtraction"
   ]
  },
  {
   "cell_type": "code",
   "execution_count": 2,
   "id": "888d89a8",
   "metadata": {},
   "outputs": [
    {
     "data": {
      "text/plain": [
       "3"
      ]
     },
     "metadata": {},
     "output_type": "display_data"
    }
   ],
   "source": [
    "10 - 7"
   ]
  },
  {
   "cell_type": "markdown",
   "id": "bed28bb8",
   "metadata": {},
   "source": [
    "## Division"
   ]
  },
  {
   "cell_type": "code",
   "execution_count": 3,
   "id": "c5404b5f",
   "metadata": {},
   "outputs": [
    {
     "data": {
      "text/plain": [
       "1.4285714285714286"
      ]
     },
     "metadata": {},
     "output_type": "display_data"
    }
   ],
   "source": [
    "10 / 7"
   ]
  }
 ],
 "metadata": {
  "jupytext": {
   "cell_metadata_filter": "-all",
   "formats": "md:myst",
   "text_representation": {
    "extension": ".md",
    "format_name": "myst",
    "format_version": 0.13,
    "jupytext_version": "1.11.5"
   }
  },
  "kernelspec": {
   "display_name": "Haskell",
   "language": "haskell",
   "name": "haskell"
  },
  "language_info": {
   "codemirror_mode": "ihaskell",
   "file_extension": ".hs",
   "mimetype": "text/x-haskell",
   "name": "haskell",
   "pygments_lexer": "Haskell",
   "version": "8.10.7"
  },
  "source_map": [
   14,
   21,
   23,
   28,
   30,
   35
  ]
 },
 "nbformat": 4,
 "nbformat_minor": 5
}